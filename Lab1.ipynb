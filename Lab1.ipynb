{
  "nbformat": 4,
  "nbformat_minor": 0,
  "metadata": {
    "colab": {
      "provenance": [],
      "authorship_tag": "ABX9TyMEBUzhT/XWXjkfZPP02eF8",
      "include_colab_link": true
    },
    "kernelspec": {
      "name": "python3",
      "display_name": "Python 3"
    },
    "language_info": {
      "name": "python"
    }
  },
  "cells": [
    {
      "cell_type": "markdown",
      "metadata": {
        "id": "view-in-github",
        "colab_type": "text"
      },
      "source": [
        "<a href=\"https://colab.research.google.com/github/EmilijusPocius/Text-and-Natural-Language-Processing-Laboratory-Work/blob/main/Lab1.ipynb\" target=\"_parent\"><img src=\"https://colab.research.google.com/assets/colab-badge.svg\" alt=\"Open In Colab\"/></a>"
      ]
    },
    {
      "cell_type": "code",
      "execution_count": 17,
      "metadata": {
        "colab": {
          "base_uri": "https://localhost:8080/"
        },
        "id": "o4tWckh81BRl",
        "outputId": "c27056cd-9506-41aa-ba03-d33c61d21d32"
      },
      "outputs": [
        {
          "output_type": "stream",
          "name": "stderr",
          "text": [
            "Device set to use cpu\n",
            "Setting `pad_token_id` to `eos_token_id`:50256 for open-end generation.\n"
          ]
        },
        {
          "output_type": "stream",
          "name": "stdout",
          "text": [
            "The purpose of life is to ensure that our children are safe from harm, and that they learn about the benefits of living here in America.\"\n",
            "\n",
            "The report, released to\n"
          ]
        }
      ],
      "source": [
        "from transformers import pipeline\n",
        "generator = pipeline('text-generation', model='gpt2')\n",
        "result = generator(\"The purpose of life is\", max_new_tokens=30, truncation=True, num_return_sequences=1)\n",
        "print(result[0]['generated_text'])"
      ]
    },
    {
      "cell_type": "code",
      "source": [
        "from transformers import pipeline\n",
        "classifier = pipeline('sentiment-analysis', model='distilbert-base-uncased-finetuned-sst-2-english')\n",
        "print(classifier(\"I hate Monday mornings\"))\n",
        "print(classifier(\"Pizza is the best food ever!\"))\n",
        "print(classifier(\"It has its advantages and disadvantages\"))"
      ],
      "metadata": {
        "colab": {
          "base_uri": "https://localhost:8080/"
        },
        "id": "V2T7UQWi2pbj",
        "outputId": "736a693b-b8ca-43a1-b472-417cee5057a1"
      },
      "execution_count": 19,
      "outputs": [
        {
          "output_type": "stream",
          "name": "stderr",
          "text": [
            "Device set to use cpu\n"
          ]
        },
        {
          "output_type": "stream",
          "name": "stdout",
          "text": [
            "[{'label': 'NEGATIVE', 'score': 0.9977189898490906}]\n",
            "[{'label': 'POSITIVE', 'score': 0.9998738765716553}]\n",
            "[{'label': 'NEGATIVE', 'score': 0.6970030069351196}]\n"
          ]
        }
      ]
    },
    {
      "cell_type": "code",
      "source": [
        "from transformers import pipeline\n",
        "generator = pipeline('text2text-generation', model='t5-small')\n",
        "result = generator(\"translate english to french: hello my friend\")\n",
        "print(result)"
      ],
      "metadata": {
        "colab": {
          "base_uri": "https://localhost:8080/"
        },
        "id": "RyQf1b2_4nlI",
        "outputId": "98ecef83-09f8-438d-accc-366e9b569928"
      },
      "execution_count": 18,
      "outputs": [
        {
          "output_type": "stream",
          "name": "stderr",
          "text": [
            "Device set to use cpu\n"
          ]
        },
        {
          "output_type": "stream",
          "name": "stdout",
          "text": [
            "[{'generated_text': 'Bonjour à mon ami'}]\n"
          ]
        }
      ]
    }
  ]
}