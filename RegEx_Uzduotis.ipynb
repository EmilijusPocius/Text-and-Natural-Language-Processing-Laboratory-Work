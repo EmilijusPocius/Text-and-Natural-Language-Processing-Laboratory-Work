{
  "nbformat": 4,
  "nbformat_minor": 0,
  "metadata": {
    "colab": {
      "provenance": [],
      "authorship_tag": "ABX9TyPqzaNIex2gnfq1p+Cdju3x"
    },
    "kernelspec": {
      "name": "python3",
      "display_name": "Python 3"
    },
    "language_info": {
      "name": "python"
    }
  },
  "cells": [
    {
      "cell_type": "markdown",
      "source": [
        "Naudojant Python, raskite:\\\n",
        "a. Dažniausią ir rečiausią simbolius\\\n",
        "b. Visus skaičius\\\n",
        "c. Visus žodžius ar žodžių junginius, sudarytus tik iš didžiųjų raidžių\\\n",
        "d. Visus žodžius, turinčius tą patį šaknį kaip ir \"kalbėjimas\"\\\n",
        "e. Visus sakinius tarp \"\" arba tarp () simbolių"
      ],
      "metadata": {
        "id": "f-jz01lecQLm"
      }
    },
    {
      "cell_type": "markdown",
      "source": [
        "a."
      ],
      "metadata": {
        "id": "HsuxRyBDk3f7"
      }
    },
    {
      "cell_type": "code",
      "execution_count": 41,
      "metadata": {
        "colab": {
          "base_uri": "https://localhost:8080/"
        },
        "id": "WgZkuh_ob548",
        "outputId": "c7ab6824-980c-4b90-8f5e-135b112e0297"
      },
      "outputs": [
        {
          "output_type": "stream",
          "name": "stdout",
          "text": [
            "Dazniausi simboliai: [' ']\n",
            "Reiciausi simboliai: ['Ą', 'Ę', '\\xad', 'q', '»', 'Ü', 'Ń', 'ī', 'ä']\n"
          ]
        }
      ],
      "source": [
        "txt_file = open(\"kalbejimas_tekstynas.txt\", \"r\")\n",
        "text = txt_file.read()\n",
        "\n",
        "d = {}\n",
        "maximum = 0\n",
        "minimum = 9999\n",
        "for symbol in text:\n",
        "  d[symbol] = d.get(symbol, 0) + 1\n",
        "  if d[symbol] > maximum:\n",
        "    maximum = d[symbol]\n",
        "  if d[symbol] < minimum:\n",
        "    minimum = d[symbol]\n",
        "maximum_symbols = []\n",
        "minimum_symbols = []\n",
        "for symbol in d:\n",
        "  if d[symbol] == maximum:\n",
        "    maximum_symbols.append(symbol)\n",
        "  if d[symbol] == minimum:\n",
        "    minimum_symbols.append(symbol)\n",
        "print(f\"Dazniausi simboliai: {maximum_symbols}\")\n",
        "print(f\"Reiciausi simboliai: {minimum_symbols}\")\n",
        "\n",
        "txt_file.close()"
      ]
    },
    {
      "cell_type": "markdown",
      "source": [
        "b."
      ],
      "metadata": {
        "id": "Oxn92y4Hk6H1"
      }
    },
    {
      "cell_type": "code",
      "source": [
        "import re\n",
        "\n",
        "txt_file = open(\"kalbejimas_tekstynas.txt\", \"r\")\n",
        "text = txt_file.read()\n",
        "\n",
        "nums = re.findall(r\"\\d\", text)\n",
        "print(f\"Visi skaiciai: {nums}\")\n",
        "\n",
        "txt_file.close()"
      ],
      "metadata": {
        "colab": {
          "base_uri": "https://localhost:8080/"
        },
        "id": "_P5NIGyfk6qs",
        "outputId": "abd12f8e-4801-490f-f2e5-1b59222dabc7"
      },
      "execution_count": 69,
      "outputs": [
        {
          "output_type": "stream",
          "name": "stdout",
          "text": [
            "Visi skaiciai: ['8', '1', '0', '5', '2', '5', '3', '3', '4', '0', '4', '1', '4', '3', '4', '5', '1', '9', '8', '8', '5', '1', '9', '8', '2', '1', '9', '9', '4', '5', '5', '5', '4', '4', '3', '4', '7', '3', '1', '7', '4', '1', '7', '6', '2', '0', '6', '2', '1', '2', '2', '1', '5', '1', '4', '9', '2', '1', '4', '2', '4', '0', '2', '3', '1', '2', '5', '9', '2', '7', '0', '3', '1', '2', '3', '7', '2', '7', '5', '2', '7', '7', '4', '5', '6', '1', '7', '1', '2', '2', '1', '5', '2', '0', '0', '2', '5', '3', '7', '3', '5', '1', '4', '7', '1', '0', '4', '1', '0', '3', '1', '0', '6', '1', '1', '2', '1', '1', '4', '2', '3', '1', '2', '1', '1', '9', '1', '9', '9', '2', '7', '5', '4', '8', '9', '0', '3', '0', '2', '0', '2', '3', '2', '3', '2', '5', '2', '6', '2', '7', '2', '3', '7', '6', '3', '4', '7', '1', '9', '6', '2', '8', '8', '8', '9', '1', '9', '9', '1', '8', '1', '0', '9', '1', '1', '8', '5', '8', '1', '9', '9', '4', '1', '0', '0', '7', '1', '1', '5', '9', '5', '7', '1', '1', '7', '3', '7', '4', '2', '2', '3', '2', '1', '5', '3', '6', '3', '8', '1', '9', '9', '0', '8', '9', '6', '0', '4', '0', '2', '0', '0', '0', '3', '9']\n"
          ]
        }
      ]
    },
    {
      "cell_type": "markdown",
      "source": [
        "c."
      ],
      "metadata": {
        "id": "NYTnYzJZokfl"
      }
    },
    {
      "cell_type": "code",
      "source": [
        "import re\n",
        "\n",
        "txt_file = open(\"kalbejimas_tekstynas.txt\", \"r\")\n",
        "text = txt_file.read()\n",
        "\n",
        "uppercase_words = re.findall(r\"[A-Z]{2,}\", text)\n",
        "print(uppercase_words)\n",
        "\n",
        "txt_file.close()"
      ],
      "metadata": {
        "colab": {
          "base_uri": "https://localhost:8080/"
        },
        "id": "UgtJ_X51ol3Y",
        "outputId": "cb3a1f30-699b-43f8-c556-9e0d41d90448"
      },
      "execution_count": 84,
      "outputs": [
        {
          "output_type": "stream",
          "name": "stdout",
          "text": [
            "['II', 'APIE', 'RYB', 'IR', 'LAISV', 'ESAS', 'KOMUNIKACIJA', 'SOCIALI', 'RUPEIKA', 'TEISINGAS', 'KALB', 'JIMAS', 'NIEK', 'YB', 'TV', 'XI', 'RATAS', 'HERMOGENA', 'HERMOGENAS', 'SOKRATAS', 'HERMOGENAS', 'SOK', 'XIX', 'TEISINGAS', 'SUVOKIMAS', 'TEISINGA', 'NUOSTATA', 'TEISINGAS', 'KALB', 'JIMAS', 'TEISINGI', 'POELGIAI', 'TEISINGAS', 'GYVENIMO', 'DAS', 'TEI']\n"
          ]
        }
      ]
    },
    {
      "cell_type": "markdown",
      "source": [
        "d."
      ],
      "metadata": {
        "id": "0bSuMZVPrsLw"
      }
    },
    {
      "cell_type": "code",
      "source": [
        "import re\n",
        "\n",
        "txt_file = open(\"kalbejimas_tekstynas.txt\", \"r\")\n",
        "text = txt_file.read()\n",
        "\n",
        "words = re.findall(r\"\\bkalb\\w*\", text)\n",
        "print(words)\n",
        "\n",
        "txt_file.close()"
      ],
      "metadata": {
        "colab": {
          "base_uri": "https://localhost:8080/"
        },
        "id": "ieigvNpXrs0j",
        "outputId": "33c07542-f669-4a8b-94d8-33e3d71f96fd"
      },
      "execution_count": 108,
      "outputs": [
        {
          "output_type": "stream",
          "name": "stdout",
          "text": [
            "['kalbėjimas', 'kalbėjimas', 'kalbėjimas', 'kalbėjimas', 'kalbėjimas', 'kalbėjimas', 'kalbėjimas', 'kalbėjimas', 'kalbėjimas', 'kalbėjimas', 'kalbėjimas', 'kalbėjimu', 'kalbėjimas', 'kalbėjimas', 'kalbėjimas', 'kalbėjimas', 'kalb', 'kalbėjimas', 'kalbėjimas', 'kalbėjimas', 'kalbėjimas', 'kalbą', 'kalbėjimas', 'kalbėjimas', 'kalbėjimas', 'kalba', 'kalba', 'kalbėjimas', 'kalbėjimas', 'kalbėjimas', 'kalbėjimas', 'kalbėjimo', 'kalbėjimas', 'kalbant', 'kalbėjimas', 'kalbėjimas', 'kalbėjimas', 'kalba', 'kalbėjimas', 'kalbėjimas', 'kalbai', 'kalbėjimas', 'kalbėjimas', 'kalbėjimas', 'kalbėjimas', 'kalbėjimas', 'kalbėjimas', 'kalba', 'kalba', 'kalbėti', 'kalbėjimas', 'kalbėjimas', 'kalbėjimas', 'kalbėti', 'kalbėjimas', 'kalbėjimas', 'kalbos', 'kalbėjimas', 'kalbėjimas', 'kalbėjimas', 'kalbėjimas', 'kalbėjimas', 'kalbėjimas', 'kalbėjimas', 'kalbėjimas', 'kalbėjimas', 'kalbėjimas', 'kalbėjimas', 'kalbėjimas', 'kalbėjimas', 'kalbėjimas', 'kalba', 'kalbėjimas', 'kalbėjimas', 'kalbėjimas', 'kalbėjimas', 'kalbėjimas', 'kalbėjimas', 'kalbėjimas', 'kalbėjimas', 'kalba', 'kalbos', 'kalbėjimas', 'kalbėjimas', 'kalbėjimas', 'kalbėjimas', 'kalbėjimas', 'kalbėjimas', 'kalbėjimas', 'kalbėjimas', 'kalbėjimas', 'kalbėti', 'kalbėjimas', 'kalbėjimas', 'kalbėjimas', 'kalba', 'kalbėjimas', 'kalbėjimas', 'kalba', 'kalbėjimas', 'kalbą', 'kalbėjimas', 'kalbėjimas', 'kalbėjimas', 'kalbėjimas', 'kalbėjimas', 'kalbėjimas', 'kalbėjimas', 'kalbėjimas', 'kalbėjimas', 'kalbėjimas', 'kalbėjimas', 'kalbėjimas', 'kalbėjimas', 'kalbėjimas', 'kalbėjimas', 'kalba', 'kalbėjimas', 'kalbėti', 'kalbos', 'kalbėjimas', 'kalbos', 'kalbėjimas', 'kalbėjimas', 'kalbėjimas', 'kalbėjimas', 'kalbėti', 'kalbėjimas', 'kalba', 'kalbėjimas', 'kalbėjimas', 'kalbėjimas', 'kalbėjimas', 'kalbėjimas', 'kalbos', 'kalbėjimas', 'kalbėjimas', 'kalbėjimas', 'kalbėjimas', 'kalbėjimas', 'kalbėjimas', 'kalbėjimas', 'kalbėjimas', 'kalba', 'kalba', 'kalbėjimas', 'kalbos', 'kalbėjimas', 'kalbėjimo', 'kalba', 'kalbėjimas', 'kalbėjimas', 'kalbėjimas', 'kalbėjimas', 'kalbėjimas', 'kalbėjimas', 'kalbėjimas', 'kalbėjimas', 'kalbėjimas', 'kalbėjimas', 'kalbėjimas', 'kalbėjimas', 'kalbėjimas', 'kalbėjimas', 'kalbėjimas', 'kalbėjimas', 'kalbėjimas', 'kalbėjimas', 'kalbėjimas', 'kalbėjimas', 'kalba', 'kalbėjimas', 'kalbėjimas', 'kalbėjimo', 'kalbėjimas', 'kalbančiosios', 'kalbėjimas', 'kalbėjimas', 'kalbėjimas', 'kalbėjimas', 'kalbėjimas', 'kalbėjimas', 'kalbėjimas', 'kalbėjimas', 'kalbėjimas', 'kalbėjimo', 'kalbėjimas', 'kalbėjimas', 'kalbėjimas', 'kalbėjimas', 'kalbėjimas', 'kalbėjimas', 'kalbėjimas', 'kalbėjimas', 'kalbėjimas', 'kalbėjimas', 'kalbėjimas', 'kalbėjimas', 'kalbėjimas', 'kalbos', 'kalbėjimas', 'kalbėjimas', 'kalbėjimas', 'kalbėjimas', 'kalbama', 'kalbėjimas', 'kalbėjimas', 'kalbėjimas', 'kalbėjimas', 'kalbėjimas', 'kalbėjimas', 'kalbėjimas', 'kalbėjimas', 'kalbėjimas', 'kalbėjimas', 'kalbėjimas', 'kalbėjimas', 'kalbėjimas', 'kalbėjimas', 'kalbėjimas', 'kalbėjimas', 'kalbant', 'kalbėjimas', 'kalbinimą', 'kalbėjimas', 'kalbėjimas', 'kalbėjimas', 'kalbėjimas', 'kalbėjimas', 'kalbėjimas', 'kalbėjimas', 'kalbėjimas', 'kalbėjimo', 'kalbėjimas', 'kalbėjimas', 'kalbėjimas', 'kalbėti', 'kalbėjimas', 'kalbėjimas', 'kalbėjimas', 'kalbėjimas', 'kalbėti', 'kalbėjimas', 'kalbėjimas', 'kalbėjimas', 'kalbėjimas', 'kalbėjimas', 'kalbėjimas', 'kalbėjimas', 'kalbėjimas', 'kalbėjimas', 'kalbėjimas', 'kalbėjimas', 'kalbėjimas', 'kalbėjimas', 'kalbėjimas', 'kalbos', 'kalbėjimas', 'kalbėjimas', 'kalbėjimas', 'kalbėjimo', 'kalbėjimas', 'kalbėjimas', 'kalbėjimas', 'kalbėjimas', 'kalbėjimas', 'kalbėjimas', 'kalbėjimas', 'kalbėjimas', 'kalbėjimas', 'kalbėjimas', 'kalbėjimas', 'kalbėjimas', 'kalbėjimas', 'kalbėjimas', 'kalbėjimas', 'kalbėjimas', 'kalbėjimas', 'kalbėjimas', 'kalbėjimo', 'kalbėjimas', 'kalbėjimo', 'kalbėjimas', 'kalbėjimas', 'kalbėjimas', 'kalbos', 'kalbėjimas', 'kalbėjimas', 'kalbėjimas', 'kalbėjimas', 'kalbėjimas', 'kalbėjimas', 'kalbėjimas', 'kalbos', 'kalbėjimas', 'kalbos', 'kalbėjimas', 'kalbėjimas', 'kalbėjimas', 'kalbėjimą', 'kalbėjimas', 'kalbėjimas', 'kalba', 'kalbėjimas', 'kalbėjimas', 'kalbėjimas', 'kalbėjimas', 'kalbėjimas', 'kalbėjimas', 'kalbėjimas', 'kalbėjimas', 'kalbėjimas', 'kalbėjimas', 'kalbėjimas', 'kalbėjimas', 'kalbėjimas', 'kalbėjimas', 'kalbėjimas', 'kalbėjimas', 'kalbėjimas', 'kalbėjimas', 'kalbėjimas', 'kalbėjimas', 'kalbėjimas', 'kalbėjimas', 'kalbėjimas', 'kalbėjimas', 'kalbėjimas', 'kalbėjimas', 'kalbėjimas', 'kalbėjimas', 'kalbos', 'kalbėjimas', 'kalbėjimas', 'kalbėti', 'kalbėjimas', 'kalbėjimas', 'kalbėjimas', 'kalbėjimo', 'kalbėjimas', 'kalbėjimas', 'kalbėjimas', 'kalbėjimas', 'kalbėjimas', 'kalbėjimas', 'kalbėjimas', 'kalbėjimas', 'kalbėjimas', 'kalba', 'kalbėjimas', 'kalbėjimas', 'kalba', 'kalbėjimas', 'kalbėjimas', 'kalbėjimas', 'kalbėjimas', 'kalbėjimas', 'kalbėjimas', 'kalbėjimas', 'kalbėjimas', 'kalbėjimas', 'kalbėjimas', 'kalbėjimas', 'kalbėjimas', 'kalbėjimas', 'kalbėjimas', 'kalbėjimas', 'kalbėjimas', 'kalbėjimas', 'kalbėjimas', 'kalbėjimas', 'kalbėjimas', 'kalbėjimas', 'kalbėjimas', 'kalbėjimas', 'kalbėjimas', 'kalbėjimas', 'kalbėjimas', 'kalbėjimas', 'kalbėjimas', 'kalbėjimas', 'kalbėjimas', 'kalbėjimu', 'kalbėjimas', 'kalbėji', 'kalbėjimas', 'kalbėjimas', 'kalbėjimas', 'kalbėjimas', 'kalbėjimas', 'kalboje', 'kalbėjimas', 'kalbėjimas', 'kalbėjimas', 'kalbėjimas', 'kalbėjimas', 'kalbėjimas', 'kalbos', 'kalba', 'kalbėjimas', 'kalbėjimas', 'kalbėjimas', 'kalbėjimas', 'kalbėjimas', 'kalbėjimas', 'kalbėti', 'kalbėjimas', 'kalbėjimas', 'kalbėjimas', 'kalbėjimas', 'kalbėjimas', 'kalbėjimas', 'kalbėjimas', 'kalbėjimas', 'kalbėjimas', 'kalbą', 'kalbėjimas', 'kalbėjimas', 'kalbėjimui', 'kalbėjimas', 'kalbėjimas', 'kalbėjimas', 'kalbėjimas', 'kalbėjimas', 'kalboms', 'kalbėjimas', 'kalboms', 'kalbėjimas', 'kalba', 'kalbėjimas', 'kalbos', 'kalbėjimas', 'kalbėjimas', 'kalbėjimas', 'kalbėjimas', 'kalbėjimas', 'kalbėjimas', 'kalbėjimas', 'kalbėjimas', 'kalbėjimas', 'kalbėjimas', 'kalbėjimas', 'kalbėti', 'kalbant', 'kalbėjimas', 'kalbos', 'kalbėjimas', 'kalbėjimas', 'kalboje', 'kalbėjimas', 'kalbėjimas', 'kalbinant', 'kalbėjimas', 'kalbėjimas', 'kalbėjimas', 'kalbėjimas', 'kalbėti', 'kalbėjimas', 'kalbėjimas', 'kalbėjimas', 'kalbėjimas', 'kalbėjimas', 'kalbant', 'kalbėjimas', 'kalbėjimas', 'kalbėjimas', 'kalbėjimas', 'kalbėjimas', 'kalbėjimas', 'kalbėjimas', 'kalbėjimas', 'kalbėjimas', 'kalbėjimas', 'kalbėjimas', 'kalbėjimas', 'kalbėjimas', 'kalbėjimas', 'kalbėjimas', 'kalbėjimas', 'kalbama', 'kalbėjimas', 'kalbėjimas', 'kalbėjimas', 'kalbėti', 'kalbėjimas', 'kalbėti', 'kalbėjimas', 'kalbėjimas', 'kalbėjimas', 'kalbėjimas', 'kalbėjimas', 'kalbėjimas', 'kalbėjimas', 'kalbėjimo', 'kalbėjimas', 'kalbėjimas', 'kalbėdama', 'kalbėjimas', 'kalbėjimas', 'kalb', 'kalbėjimas', 'kalbėjimas', 'kalbėjimas', 'kalbėjimas', 'kalba', 'kalbėjimas', 'kalbėjimas', 'kalbos', 'kalbose', 'kalbėjimas', 'kalbėjimas', 'kalbėjimas', 'kalbėjimas', 'kalbėjimas', 'kalbėjimas', 'kalbomis', 'kalbos', 'kalbėjimas', 'kalbėjimas', 'kalbėjimas', 'kalbėjimas', 'kalbėjimas', 'kalbėjimas', 'kalbėjimas', 'kalbėjimas', 'kalbėjimas', 'kalbėjimas', 'kalbėjimas', 'kalbėjimas', 'kalbėjimas', 'kalbėjimas', 'kalbėjimas', 'kalbėjimas', 'kalbėjimas', 'kalbėjimas', 'kalbėjimas', 'kalbėjimas', 'kalbėjimas', 'kalbėjimas', 'kalbos', 'kalbėjimas', 'kalbėjimas', 'kalba', 'kalbėjimas', 'kalbėjimas', 'kalbėjimas', 'kalbėjimas', 'kalbame', 'kalbėjimas', 'kalbos', 'kalbėjimas', 'kalbėjimas', 'kalbėjimas', 'kalbėjimas', 'kalbėjimas', 'kalbėjimas', 'kalbėjimas', 'kalbėjimas', 'kalbėjimas', 'kalbėjimas', 'kalbama', 'kalbėjimas', 'kalbėjimas', 'kalbėjimas', 'kalbėjimas', 'kalbėjimo', 'kalbėjimas', 'kalbėjimo', 'kalbėjimas', 'kalbėjimas', 'kalbėjimas', 'kalbėjimas', 'kalbėjimas', 'kalbėjimas', 'kalbėjimas', 'kalbėjimas', 'kalbant', 'kalbėjimas', 'kalbėjimas', 'kalbėjimas', 'kalbėjimas', 'kalbėjimu', 'kalbėjimas', 'kalbėjimas', 'kalbėjimas', 'kalbėjimas', 'kalbėjimas', 'kalbėjimas', 'kalbėjimo', 'kalbėjimas', 'kalbėjimas', 'kalbėjimas', 'kalbėjimas', 'kalbėjimas', 'kalbėjimas', 'kalbėjimas', 'kalbėjimas', 'kalbėjimas', 'kalbėjimas', 'kalbėjimas', 'kalbėjimas', 'kalbėjimas', 'kalbėjimas', 'kalbėjimas', 'kalbėk', 'kalbėjimas', 'kalbėjimas', 'kalbėjimas', 'kalbėjimas', 'kalbėjimas', 'kalbėjimas', 'kalbėjimas', 'kalbėjimas', 'kalbėjimasis']\n"
          ]
        }
      ]
    },
    {
      "cell_type": "markdown",
      "source": [
        "e."
      ],
      "metadata": {
        "id": "_kacRoK0v6Hi"
      }
    },
    {
      "cell_type": "code",
      "source": [
        "import re\n",
        "\n",
        "txt_file = open(\"kalbejimas_tekstynas.txt\", \"r\")\n",
        "text = txt_file.read()\n",
        "\n",
        "sentences = re.findall(r'\\((.*?)\\)|\"(.*?)\"', text)\n",
        "sentences = [m[0] if m[0] else m[1] for m in sentences]\n",
        "print(sentences)\n",
        "\n",
        "txt_file.close()"
      ],
      "metadata": {
        "colab": {
          "base_uri": "https://localhost:8080/"
        },
        "id": "8f3ss7wSv6rl",
        "outputId": "380604e0-79f4-42a2-b6e3-78c7375d330a"
      },
      "execution_count": 123,
      "outputs": [
        {
          "output_type": "stream",
          "name": "stdout",
          "text": [
            "['8, 105', 'Įkaitusi retorika', 'pvz., „Meilės įvade”', 'atgyvenęs', 'kalbėjimas, iš kalbėjimo gimę įvaizdžiai', 'angelui netinka; jam priklauso tik vidinė kalba', 'Dievo ir žmogaus santykį', ' Tsogjal nebenuramino simboliškas Guru kalbėjimas ir ji raudodama vaitojo: ', 'V.\\xa0Daujotytės knygos pavadinimas', 'Ašmontas A., 1988, p. 5', ', ', ', ', 'greitai, vidutiniškai, lėtai', 'Ambrazas, red., 1994: 555', 'kalbėjimas', 'plg. fr. 37', 'nieko tokio neatsitiko', 'pusiau kalbėjimas', 'naujų', 'Otto šventybę', '\"Kalbėjimas\"', 'palaukti', 'parole pleine', 'Skrydis', 'choru', 'juo tikėti', '(nu)tylėjimas', 'suplementas', 'Derrida', 'Carmina minora', 'sakymas', 'liaudies dainų mergelės paveikslas', 'kalbėjimas', 'šneka', '5', '147 p.', '\"Išveski mus...\"', 'Servijaus Galo užrašai', 'sutinku, kad toks kalbėjimas yra lengvesnis', ' ', '. Šį posūkį išreiškia ir Hėrakleito kalbėjimas apie ', 'Lietuvos rytas', 'A.\\xa0Maceina', 'gr. perifrasis – raiškus kalbėjimas, kalbėjimas aplink, vaizdingas aprašymas', ', ', 'kritinis', 'kalbėjimas ir jo suvokimas', 'Karnegi, 1992, 75', '8 p.', 'ar kalbėjimas su vaiku', 'sostinės', 'trukmė 90 minučių', 'kai poetas sako, kad kraujas yra šviesa', '. „Katedroje', 'kalba, turinčia neribotos apimties žodyną', ' ar ', ' yra visuotinybė, kuria mąstymas (ir kalbėjimas pagal mąstymą) ', 'įscur%zesqai', '. (2.3) ', ' - tiek kalbėjimas, vykstantis per logos ir su jo pagalba, tiek ', ', - rašoma ', 'žr. p. 76', 'gr. perifrasis – raiškus kalbėjimas, kalbėjimas aplink, vaizdingas aprašymas', 'stilių', 'tavo', 'tu', 'tave', 'gr. allegoria – perkeltinis kalbėjimas', ', p. 347), arba kalbėjimas jos vardu (', 'Šarka - patarška', 'Vėžlio pasakojimas', 'nors galėtų išduoti', 'kalbėjimas apie žmogų, pasaulį, meną, esinius ir t. t.', 'kaip ir vėlyvosiose Maironio satyrose', 'Kalbėjimas', 'gražios iškalbos', 'pusiau kalbėjimas', 'kurios ir pačios įtvirtintos kalboje', 'gr. euphemismos – geras, kilnus kalbėjimas, švelnesnis pasakymas', 'erĮtan ', 'teiravimasis', 'eirein ', 'Selbstgespräch', 'aš, tu, jis, ji', 'o ir tada', 'Job 7, 11', 'tyla', 'namiškumą', ' ', 'žr. 37 pav.', 'įniršę - viršų', 'ar tikėjimą kasdienybėje', 'kalbėjimu', 'Dasein kalbėjimas', 'čia po ranka sąsaja su logos', '8 p.', 'ar kalbėjimas su vaiku', 'Dilytė, 1990, 8–9', 'Lietuvos rytas', 'A.\\xa0Maceina', 'sukuria']\n"
          ]
        }
      ]
    }
  ]
}