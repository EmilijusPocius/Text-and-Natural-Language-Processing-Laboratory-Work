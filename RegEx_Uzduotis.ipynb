{
  "nbformat": 4,
  "nbformat_minor": 0,
  "metadata": {
    "colab": {
      "provenance": [],
      "authorship_tag": "ABX9TyNfvuHaNeI2lqopKS/Ba7xD"
    },
    "kernelspec": {
      "name": "python3",
      "display_name": "Python 3"
    },
    "language_info": {
      "name": "python"
    }
  },
  "cells": [
    {
      "cell_type": "markdown",
      "source": [
        "Naudojant Python, raskite:\\\n",
        "a. Dažniausią ir rečiausią simbolius\\\n",
        "b. Visus skaičius\\\n",
        "c. Visus žodžius ar žodžių junginius, sudarytus tik iš didžiųjų raidžių\\\n",
        "d. Visus žodžius, turinčius tą patį šaknį kaip ir \"kalbėjimas\"\\\n",
        "e. Visus sakinius tarp \"\" arba tarp () simbolių"
      ],
      "metadata": {
        "id": "f-jz01lecQLm"
      }
    },
    {
      "cell_type": "markdown",
      "source": [
        "a."
      ],
      "metadata": {
        "id": "HsuxRyBDk3f7"
      }
    },
    {
      "cell_type": "code",
      "execution_count": 34,
      "metadata": {
        "colab": {
          "base_uri": "https://localhost:8080/"
        },
        "id": "WgZkuh_ob548",
        "outputId": "7e1ae57d-cfcd-42e0-e6c2-9a5a47a60f00"
      },
      "outputs": [
        {
          "output_type": "stream",
          "name": "stdout",
          "text": [
            "Dazniausi simboliai: [' ']\n",
            "Reiciausi simboliai: ['Ą', 'Ę', '\\xad', 'q', '»', 'Ü', 'Ń', 'ī', 'ä']\n"
          ]
        }
      ],
      "source": [
        "txt_file = open(\"kalbejimas_tekstynas.txt\", \"r\")\n",
        "text = txt_file.read()\n",
        "\n",
        "d = {}\n",
        "maximum = 0\n",
        "minimum = 9999\n",
        "for symbol in text:\n",
        "  d[symbol] = d.get(symbol, 0) + 1\n",
        "  if d[symbol] > maximum:\n",
        "    maximum = d[symbol]\n",
        "  if d[symbol] < minimum:\n",
        "    minimum = d[symbol]\n",
        "maximum_symbols = []\n",
        "minimum_symbols = []\n",
        "for symbol in d:\n",
        "  if d[symbol] == maximum:\n",
        "    maximum_symbols.append(symbol)\n",
        "  if d[symbol] == minimum:\n",
        "    minimum_symbols.append(symbol)\n",
        "print(f\"Dazniausi simboliai: {maximum_symbols}\")\n",
        "print(f\"Reiciausi simboliai: {minimum_symbols}\")\n",
        "\n",
        "txt_file.close()"
      ]
    },
    {
      "cell_type": "markdown",
      "source": [
        "b."
      ],
      "metadata": {
        "id": "Oxn92y4Hk6H1"
      }
    },
    {
      "cell_type": "code",
      "source": [
        "import re\n",
        "\n",
        "txt_file = open(\"kalbejimas_tekstynas.txt\", \"r\")\n",
        "text = txt_file.read()\n",
        "\n",
        "nums = re.findall(r\"\\d+(?:\\.?\\d+)?\", text)\n",
        "print(f\"Visi skaiciai: {nums}\")\n",
        "\n",
        "txt_file.close()"
      ],
      "metadata": {
        "colab": {
          "base_uri": "https://localhost:8080/"
        },
        "id": "_P5NIGyfk6qs",
        "outputId": "a08b5d18-b306-4aca-8fb5-9f06358f1d30"
      },
      "execution_count": 45,
      "outputs": [
        {
          "output_type": "stream",
          "name": "stdout",
          "text": [
            "Visi skaiciai: ['8', '105', '2', '5', '33', '40', '41', '43', '45', '1988', '5', '1982', '1994', '555', '443', '4', '73', '174', '176', '206', '212', '215', '149', '214', '240', '231', '259', '270', '312', '37', '275', '277', '4', '5', '6', '1', '71', '2', '2', '1', '5', '2002', '53', '73', '5', '147', '104', '103', '106', '112', '114', '2', '3', '1', '21', '1', '9', '1992', '75', '4', '8', '90', '30', '20', '23', '23', '25', '26', '27', '2.3', '76', '347', '1962', '88', '89', '1991', '8', '109', '118', '58', '1994', '10', '07', '11', '59', '5', '7', '11', '7', '37', '42', '2', '3', '2', '15', '3', '6', '3', '8', '1990', '8', '9', '60', '40', '2000', '39']\n"
          ]
        }
      ]
    },
    {
      "cell_type": "markdown",
      "source": [
        "c."
      ],
      "metadata": {
        "id": "NYTnYzJZokfl"
      }
    },
    {
      "cell_type": "code",
      "source": [
        "import re\n",
        "\n",
        "txt_file = open(\"kalbejimas_tekstynas.txt\", \"r\")\n",
        "text = txt_file.read()\n",
        "\n",
        "uppercase_words = re.findall(r\"[A-ZĄČĘĖĮŠŲŪŽ]{2,}\", text)\n",
        "print(uppercase_words)\n",
        "\n",
        "txt_file.close()"
      ],
      "metadata": {
        "colab": {
          "base_uri": "https://localhost:8080/"
        },
        "id": "UgtJ_X51ol3Y",
        "outputId": "70b526a5-9a12-4cf1-b7a8-c04a9aab9a88"
      },
      "execution_count": 15,
      "outputs": [
        {
          "output_type": "stream",
          "name": "stdout",
          "text": [
            "['II', 'APIE', 'KŪRYBĄ', 'IR', 'LAISVĘ', 'ESAS', 'KOMUNIKACIJA', 'SOCIALI', 'RUPEIKA', 'TEISINGAS', 'KALBĖJIMAS', 'NIEKŠYBĖ', 'TV', 'XI', 'RATAS', 'HERMOGENA', 'HERMOGENAS', 'SOKRATAS', 'HERMOGENAS', 'SOK', 'XIX', 'TEISINGAS', 'SUVOKIMAS', 'TEISINGA', 'NUOSTATA', 'TEISINGAS', 'KALBĖJIMAS', 'TEISINGI', 'POELGIAI', 'TEISINGAS', 'GYVENIMO', 'BŪDAS', 'TEI']\n"
          ]
        }
      ]
    },
    {
      "cell_type": "markdown",
      "source": [
        "d."
      ],
      "metadata": {
        "id": "0bSuMZVPrsLw"
      }
    },
    {
      "cell_type": "code",
      "source": [
        "import re\n",
        "\n",
        "txt_file = open(\"kalbejimas_tekstynas.txt\", \"r\")\n",
        "text = txt_file.read()\n",
        "\n",
        "words = re.findall(r\"\\w*kalb\\w+\", text)\n",
        "\n",
        "words_no_repeat = []\n",
        "for word in words:\n",
        "  if word not in words_no_repeat:\n",
        "    words_no_repeat.append(word)\n",
        "\n",
        "print(words_no_repeat)\n",
        "\n",
        "txt_file.close()"
      ],
      "metadata": {
        "colab": {
          "base_uri": "https://localhost:8080/"
        },
        "id": "ieigvNpXrs0j",
        "outputId": "f665669c-bc51-42f4-ac3e-d5601fd81e11"
      },
      "execution_count": 61,
      "outputs": [
        {
          "output_type": "stream",
          "name": "stdout",
          "text": [
            "['kalbėjimas', 'kalbėjimu', 'kalbą', 'kalba', 'kalbėjimo', 'kalbant', 'kalbai', 'kalbėti', 'kalbos', 'Iškalbos', 'pokalbio', 'pokalbį', 'kalbančiosios', 'kalbama', 'kalbinimą', 'susikalbėti', 'kalbėjimą', 'pokalbius', 'iškalba', 'Iškalbingiausia', 'kalbėji', 'kalboje', 'kalbėjimui', 'kalboms', 'iškalbos', 'kalbinant', 'Pokalbis', 'išsikalbėti', 'kalbėdama', 'kalbose', 'kalbomis', 'pokalbis', 'pokalbyje', 'kalbame', 'kalbėk', 'kalbėjimasis']\n"
          ]
        }
      ]
    },
    {
      "cell_type": "markdown",
      "source": [
        "e."
      ],
      "metadata": {
        "id": "_kacRoK0v6Hi"
      }
    },
    {
      "cell_type": "code",
      "source": [
        "import re\n",
        "\n",
        "txt_file = open(\"kalbejimas_tekstynas.txt\", \"r\")\n",
        "text = txt_file.read()\n",
        "\n",
        "sentences = re.findall(r'\\((.*?)\\)|\"(.*?)\"', text)\n",
        "sentences = [m[0] if m[0] else m[1] for m in sentences]\n",
        "print(sentences)\n",
        "\n",
        "txt_file.close()"
      ],
      "metadata": {
        "colab": {
          "base_uri": "https://localhost:8080/"
        },
        "id": "8f3ss7wSv6rl",
        "outputId": "380604e0-79f4-42a2-b6e3-78c7375d330a"
      },
      "execution_count": null,
      "outputs": [
        {
          "output_type": "stream",
          "name": "stdout",
          "text": [
            "['8, 105', 'Įkaitusi retorika', 'pvz., „Meilės įvade”', 'atgyvenęs', 'kalbėjimas, iš kalbėjimo gimę įvaizdžiai', 'angelui netinka; jam priklauso tik vidinė kalba', 'Dievo ir žmogaus santykį', ' Tsogjal nebenuramino simboliškas Guru kalbėjimas ir ji raudodama vaitojo: ', 'V.\\xa0Daujotytės knygos pavadinimas', 'Ašmontas A., 1988, p. 5', ', ', ', ', 'greitai, vidutiniškai, lėtai', 'Ambrazas, red., 1994: 555', 'kalbėjimas', 'plg. fr. 37', 'nieko tokio neatsitiko', 'pusiau kalbėjimas', 'naujų', 'Otto šventybę', '\"Kalbėjimas\"', 'palaukti', 'parole pleine', 'Skrydis', 'choru', 'juo tikėti', '(nu)tylėjimas', 'suplementas', 'Derrida', 'Carmina minora', 'sakymas', 'liaudies dainų mergelės paveikslas', 'kalbėjimas', 'šneka', '5', '147 p.', '\"Išveski mus...\"', 'Servijaus Galo užrašai', 'sutinku, kad toks kalbėjimas yra lengvesnis', ' ', '. Šį posūkį išreiškia ir Hėrakleito kalbėjimas apie ', 'Lietuvos rytas', 'A.\\xa0Maceina', 'gr. perifrasis – raiškus kalbėjimas, kalbėjimas aplink, vaizdingas aprašymas', ', ', 'kritinis', 'kalbėjimas ir jo suvokimas', 'Karnegi, 1992, 75', '8 p.', 'ar kalbėjimas su vaiku', 'sostinės', 'trukmė 90 minučių', 'kai poetas sako, kad kraujas yra šviesa', '. „Katedroje', 'kalba, turinčia neribotos apimties žodyną', ' ar ', ' yra visuotinybė, kuria mąstymas (ir kalbėjimas pagal mąstymą) ', 'įscur%zesqai', '. (2.3) ', ' - tiek kalbėjimas, vykstantis per logos ir su jo pagalba, tiek ', ', - rašoma ', 'žr. p. 76', 'gr. perifrasis – raiškus kalbėjimas, kalbėjimas aplink, vaizdingas aprašymas', 'stilių', 'tavo', 'tu', 'tave', 'gr. allegoria – perkeltinis kalbėjimas', ', p. 347), arba kalbėjimas jos vardu (', 'Šarka - patarška', 'Vėžlio pasakojimas', 'nors galėtų išduoti', 'kalbėjimas apie žmogų, pasaulį, meną, esinius ir t. t.', 'kaip ir vėlyvosiose Maironio satyrose', 'Kalbėjimas', 'gražios iškalbos', 'pusiau kalbėjimas', 'kurios ir pačios įtvirtintos kalboje', 'gr. euphemismos – geras, kilnus kalbėjimas, švelnesnis pasakymas', 'erĮtan ', 'teiravimasis', 'eirein ', 'Selbstgespräch', 'aš, tu, jis, ji', 'o ir tada', 'Job 7, 11', 'tyla', 'namiškumą', ' ', 'žr. 37 pav.', 'įniršę - viršų', 'ar tikėjimą kasdienybėje', 'kalbėjimu', 'Dasein kalbėjimas', 'čia po ranka sąsaja su logos', '8 p.', 'ar kalbėjimas su vaiku', 'Dilytė, 1990, 8–9', 'Lietuvos rytas', 'A.\\xa0Maceina', 'sukuria']\n"
          ]
        }
      ]
    }
  ]
}