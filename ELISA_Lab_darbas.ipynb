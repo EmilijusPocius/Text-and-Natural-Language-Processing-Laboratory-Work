{
  "nbformat": 4,
  "nbformat_minor": 0,
  "metadata": {
    "colab": {
      "provenance": []
    },
    "kernelspec": {
      "name": "python3",
      "display_name": "Python 3"
    },
    "language_info": {
      "name": "python"
    }
  },
  "cells": [
    {
      "cell_type": "markdown",
      "source": [
        "Natūralios kalbos apdorojimas, VILNIUS TECH, 2025\n",
        "# Laboratorinis darbas 09-15\n",
        "\n",
        "**Užduotis:** Naudojant reguliariųjų išraiškų šablonus, sukurkite Python programą, kuri veiktų kaip paprastas terapeutas-chatbotas (ELISA). Programa turi priimti naudotoją įvestį (su `input()`) ir generuoti tinkamą išvestį.\n",
        "\n",
        "*Naudokite pavyzdį, pateiktą šiame Noteboook'e.*\n",
        "\n",
        "**Atsiskaitymas:** Kodo demonstracija užsiėmimų pabaigoje, arba kodo įkėlimas į Moodle."
      ],
      "metadata": {
        "id": "5lMKPoeehcUg"
      }
    },
    {
      "cell_type": "code",
      "execution_count": 7,
      "metadata": {
        "id": "B_KCcvA1f--3"
      },
      "outputs": [],
      "source": [
        "import re\n",
        "import random"
      ]
    },
    {
      "cell_type": "code",
      "source": [
        "class ElizaChatbot:\n",
        "    def __init__(self):\n",
        "\n",
        "      self.patterns = [\n",
        "        # Device/service not working\n",
        "        (r\"(?:my |the |a )?(.*) is not working[.!]?\", [\n",
        "            \"Have you tried restarting {0}?\",\n",
        "            \"When did {0} stop working?\",\n",
        "            \"Is {0} showing any error messages?\",\n",
        "            \"Did {0} stop working after an update or change?\",\n",
        "            \"Can you describe what happens when you try to use the {0}?\"\n",
        "        ]),\n",
        "\n",
        "        # Can't connect\n",
        "        (r\"i can't connect to (?:the )?(.*)[.!]?\", [\n",
        "            \"Are you sure the network for {0} is available?\",\n",
        "            \"Is {0} connected with a cable or Wi-Fi?\",\n",
        "            \"When did the connection issue with {0} start?\",\n",
        "            \"Did you recently change any settings on {0}?\"\n",
        "        ]),\n",
        "\n",
        "        # Device/service slow\n",
        "        (r\"(?:my |the |a )?(.*) is slow[.!]?\", [\n",
        "            \"Has {0} been slow all the time or just recently?\",\n",
        "            \"Do you notice {0} being slow during specific tasks?\",\n",
        "            \"Have you tried closing unused apps on {0}?\",\n",
        "            \"Did {0} recently receive any updates?\"\n",
        "        ]),\n",
        "\n",
        "        # Overheating\n",
        "        (r\"(?:my |the |a )?(.*) is overheating[.!]?\", [\n",
        "            \"Is {0} placed in a well-ventilated area?\",\n",
        "            \"When did {0} start overheating?\",\n",
        "            \"Do you feel {0} overheating during specific tasks?\",\n",
        "            \"Have you checked if the fans in {0} are working?\"\n",
        "        ]),\n",
        "\n",
        "        # Forgot password\n",
        "        (r\"i forgot (?:my |the )?(.*) password[.!]?\", [\n",
        "            \"Have you tried resetting the {0} password?\",\n",
        "            \"Do you have another account to recover the {0} password?\",\n",
        "            \"Would you like me to guide you through the {0} password reset process?\"\n",
        "        ]),\n",
        "           ]\n",
        "\n",
        "\n",
        "\n",
        "          # Numatytieji atsakymai, kai nei vienas šablonas netinka\n",
        "      self.default_responses = [\n",
        "              \"Can you tell me more about that?\",\n",
        "              \"I need more information.\",\n",
        "              \"Could you please describe the issue in detail?\",\n",
        "              \"What steps have you already tried?\",\n",
        "              \"When did you first notice this problem?\",\n",
        "              \"Do you see any error messages or codes?\",\n",
        "              \"I want to help, can you provide more specifics?\",\n",
        "              \"Have you tried alt+f4?\"\n",
        "          ]\n",
        "\n",
        "    def respond(self, user_input):\n",
        "        \"\"\"\n",
        "        Vartotojo įvesties apdorojimas, atsakymo grąžinimas\n",
        "        \"\"\"\n",
        "        user_input = user_input.lower().strip()\n",
        "\n",
        "        for pattern, responses in self.patterns:\n",
        "            is_match = re.search(pattern, user_input)\n",
        "            if is_match:\n",
        "                response = random.choice(responses)\n",
        "                return response.format(*is_match.groups())\n",
        "\n",
        "        return random.choice(self.default_responses)\n",
        "\n",
        "    def chat(self):\n",
        "        \"\"\"\n",
        "        Pagrindinis ciklas\n",
        "        \"\"\"\n",
        "        print(\"Hello! I'm ELIŽA, your virtual technician.\")\n",
        "        print(\"Tell me what's wrong.\")\n",
        "        # TODO: pakeiskite pradžią pagal savo temą\n",
        "\n",
        "        while True:\n",
        "            user_input = input(\"User: \")\n",
        "\n",
        "            if user_input.lower() in ['quit', 'exit', 'bye', 'goodbye', 'take care']:\n",
        "                print(\"ELIŽA: Bye!\")\n",
        "                break\n",
        "\n",
        "            response = self.respond(user_input)\n",
        "            print(f\"ELIŽA: {response}\")"
      ],
      "metadata": {
        "id": "-SAyyuxWgB1s"
      },
      "execution_count": 36,
      "outputs": []
    },
    {
      "cell_type": "code",
      "source": [
        "bot = ElizaChatbot()\n",
        "bot.chat()"
      ],
      "metadata": {
        "colab": {
          "base_uri": "https://localhost:8080/"
        },
        "id": "C0snI_ewhN7O",
        "outputId": "8b7f1af9-7414-47bc-a0ee-8cff9846f517"
      },
      "execution_count": 38,
      "outputs": [
        {
          "output_type": "stream",
          "name": "stdout",
          "text": [
            "Hello! I'm ELIŽA, your virtual technician.\n",
            "Tell me what's wrong.\n",
            "User: BYE\n",
            "ELIŽA: Bye!\n"
          ]
        }
      ]
    }
  ]
}